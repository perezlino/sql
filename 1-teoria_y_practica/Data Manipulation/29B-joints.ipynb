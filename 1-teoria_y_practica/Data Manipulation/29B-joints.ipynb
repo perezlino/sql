{
 "cells": [
  {
   "attachments": {},
   "cell_type": "markdown",
   "metadata": {},
   "source": [
    "### JOINTS"
   ]
  },
  {
   "attachments": {},
   "cell_type": "markdown",
   "metadata": {},
   "source": [
    "Para demostrar estas funciones, creemos primero la tabla Customers (Clientes) y Orders (Pedidos) como se muestra en la siguiente imagen utilizando el siguiente script:"
   ]
  },
  {
   "cell_type": "code",
   "execution_count": null,
   "metadata": {
    "vscode": {
     "languageId": "sql"
    }
   },
   "outputs": [],
   "source": [
    "CREATE DATABASE SqlHintsJoinDemo\n",
    "\n",
    "USE SqlHintsJoinDemo\n",
    "\n",
    "--Crear tabla 'Customers' e insertar registros\n",
    "CREATE TABLE Customers( \n",
    "CustomerId INT, \n",
    "Name VARCHAR(50) \n",
    ")\n",
    "\n",
    "INSERT INTO Customers(CustomerId, Name) VALUES(1,'Shree')\n",
    "INSERT INTO Customers(CustomerId, Name) VALUES(2,'Kalpana')\n",
    "INSERT INTO Customers(CustomerId, Name) VALUES(3,'Basavaraj')\n",
    "\n",
    " \n",
    "--Crear tabla 'Orders' e insertar registros\n",
    "CREATE TABLE Orders(\n",
    "OrderId INT, \n",
    "CustomerId INT, \n",
    "OrderDate DateTime)\n",
    "\n",
    "INSERT INTO Orders(OrderId, CustomerId, OrderDate) VALUES(100,1,Getdate()-1)\n",
    "INSERT INTO Orders(OrderId, CustomerId, OrderDate) VALUES(200,4,Getdate())\n",
    "INSERT INTO Orders(OrderId, CustomerId, OrderDate) VALUES(300,3,Getdate()+1)"
   ]
  },
  {
   "attachments": {},
   "cell_type": "markdown",
   "metadata": {},
   "source": [
    "<center><img src=\"https://i.postimg.cc/brHv5LTg/join1.jpg\"></center>"
   ]
  },
  {
   "attachments": {},
   "cell_type": "markdown",
   "metadata": {},
   "source": [
    "#### INNER JOIN"
   ]
  },
  {
   "cell_type": "code",
   "execution_count": null,
   "metadata": {
    "vscode": {
     "languageId": "sql"
    }
   },
   "outputs": [],
   "source": [
    "SELECT * \n",
    "FROM  Customers C \n",
    "        INNER JOIN Orders O\n",
    "            ON O.CustomerId = C.CustomerId"
   ]
  },
  {
   "attachments": {},
   "cell_type": "markdown",
   "metadata": {},
   "source": [
    "<center><img src=\"https://i.postimg.cc/qR2nkswh/join2.jpg\"></center>"
   ]
  },
  {
   "attachments": {},
   "cell_type": "markdown",
   "metadata": {},
   "source": [
    "#### LEFT JOIN"
   ]
  },
  {
   "cell_type": "code",
   "execution_count": null,
   "metadata": {
    "vscode": {
     "languageId": "sql"
    }
   },
   "outputs": [],
   "source": [
    "SELECT * \n",
    "FROM  Customers C \n",
    "        LEFT OUTER JOIN Orders O\n",
    "            ON O.CustomerId = C.CustomerId"
   ]
  },
  {
   "attachments": {},
   "cell_type": "markdown",
   "metadata": {},
   "source": [
    "<center><img src=\"https://i.postimg.cc/KvtMBDh0/join3.jpg\"></center>"
   ]
  },
  {
   "attachments": {},
   "cell_type": "markdown",
   "metadata": {},
   "source": [
    "#### RIGHT JOIN"
   ]
  },
  {
   "cell_type": "code",
   "execution_count": null,
   "metadata": {
    "vscode": {
     "languageId": "sql"
    }
   },
   "outputs": [],
   "source": [
    "SELECT *\n",
    "FROM  Customers C \n",
    "        RIGHT OUTER JOIN Orders O\n",
    "            ON O.CustomerId = C.CustomerId"
   ]
  },
  {
   "attachments": {},
   "cell_type": "markdown",
   "metadata": {},
   "source": [
    "<center><img src=\"https://i.postimg.cc/RZrTz04D/join4.jpg\"></center>"
   ]
  },
  {
   "attachments": {},
   "cell_type": "markdown",
   "metadata": {},
   "source": [
    "#### FULL JOIN"
   ]
  },
  {
   "cell_type": "code",
   "execution_count": null,
   "metadata": {
    "vscode": {
     "languageId": "sql"
    }
   },
   "outputs": [],
   "source": [
    "SELECT *\n",
    "    FROM Customers C\n",
    "            FULL OUTER JOIN Orders O\n",
    "                ON O.CustomerId = C.CustomerId"
   ]
  },
  {
   "attachments": {},
   "cell_type": "markdown",
   "metadata": {},
   "source": [
    "<center><img src=\"https://i.postimg.cc/sD02NnCj/join5.jpg\"></center>"
   ]
  },
  {
   "attachments": {},
   "cell_type": "markdown",
   "metadata": {},
   "source": [
    "#### CROSS JOIN"
   ]
  },
  {
   "attachments": {},
   "cell_type": "markdown",
   "metadata": {},
   "source": [
    "El Cross join también se conoce como producto cartesiano. Por cada fila de la tabla IZQUIERDA del CROSS JOIN se devuelven todas las filas de la tabla DERECHA y viceversa (es decir, el resultado tendrá el producto cartesiano de las filas de las tablas unidas)."
   ]
  },
  {
   "cell_type": "code",
   "execution_count": null,
   "metadata": {
    "vscode": {
     "languageId": "sql"
    }
   },
   "outputs": [],
   "source": [
    "SELECT *\n",
    "FROM Customers C\n",
    "        CROSS JOIN Orders O"
   ]
  },
  {
   "attachments": {},
   "cell_type": "markdown",
   "metadata": {},
   "source": [
    "<center><img src=\"https://i.postimg.cc/ht5phqFk/join6.jpg\"></center>"
   ]
  }
 ],
 "metadata": {
  "language_info": {
   "name": "python"
  },
  "orig_nbformat": 4
 },
 "nbformat": 4,
 "nbformat_minor": 2
}
